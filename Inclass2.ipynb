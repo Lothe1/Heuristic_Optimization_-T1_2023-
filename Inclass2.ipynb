{
 "cells": [
  {
   "cell_type": "code",
   "execution_count": 8,
   "id": "aa5593d4",
   "metadata": {},
   "outputs": [
    {
     "name": "stdout",
     "output_type": "stream",
     "text": [
      "(0.9995397723859799, 0.9992179193429755)\n",
      "(0.0004947439829802998, 0.0015705187728797688)\n"
     ]
    }
   ],
   "source": [
    "import random\n",
    "import math\n",
    "def computeCost_0(current):\n",
    "    return (current-1)**2\n",
    "    \n",
    "def neighbor_0(point, bound):\n",
    "    #1% of the bound \n",
    "    return point + 1/100 * random.uniform(-bound/2,bound/2)\n",
    "  \n",
    "    \n",
    "\n",
    "def neighbor_1(point, bound):\n",
    "    #1% of the bound \n",
    "    return (point[0] + 1/100 * random.uniform(-bound/2,bound/2), point[1] + 1/100 * random.uniform(-bound/2,bound/2))\n",
    "\n",
    "def computeCost_1(x):\n",
    "    return (1-x[0])**2 + 100 * (x[1]- x[0]**2)**2\n",
    "    \n",
    "\n",
    "def computeCost_2(x):\n",
    "    return (x[0]** 2) + (x[1]** 2) + (25*(math.sin(x[0]) ** 2 + math.sin(x[1]) ** 2))\n",
    "    \n",
    "    \n",
    "    \n",
    "    \n",
    "def simpleSA(max_iteration, initial_state,Alpha,  Beta, bound, neighbor, computeCost):\n",
    "    iteration =0\n",
    "    current = initial_state\n",
    "    T = 1\n",
    "    while T > 0 and iteration < max_iteration:\n",
    "        \n",
    "        next_point = neighbor(current,bound)\n",
    "        \n",
    "        cost_diff = computeCost(next_point) - computeCost(current)\n",
    "        \n",
    "        \n",
    "        if cost_diff < 0:\n",
    "            current = next_point\n",
    "        else:\n",
    "            rng = random.random()\n",
    "            if (rng< 2.71**(-cost_diff/T)):\n",
    "                current = next_point\n",
    "                \n",
    "        T = T * Alpha\n",
    "        iteration += 1\n",
    "\n",
    "    return current\n",
    "\n",
    "\n",
    "randominitial = random.uniform(-10 , 10)\n",
    "#print(simpleSA(1000, 1.5 , .95 , 1,20, neighbor_0, computeCost_0))\n",
    "\n",
    "\n",
    "print(simpleSA(1000, (1,1) , .95 , 1, 4, neighbor_1, computeCost_1))\n",
    "\n",
    "print(simpleSA(1000, (1,1) , .95 , 1, 10, neighbor_1, computeCost_2))"
   ]
  },
  {
   "cell_type": "code",
   "execution_count": null,
   "id": "e9f6157d",
   "metadata": {},
   "outputs": [],
   "source": []
  },
  {
   "cell_type": "code",
   "execution_count": null,
   "id": "14f7b270",
   "metadata": {},
   "outputs": [],
   "source": []
  },
  {
   "cell_type": "code",
   "execution_count": null,
   "id": "a8dcba03",
   "metadata": {},
   "outputs": [],
   "source": []
  }
 ],
 "metadata": {
  "kernelspec": {
   "display_name": "Python 3 (ipykernel)",
   "language": "python",
   "name": "python3"
  },
  "language_info": {
   "codemirror_mode": {
    "name": "ipython",
    "version": 3
   },
   "file_extension": ".py",
   "mimetype": "text/x-python",
   "name": "python",
   "nbconvert_exporter": "python",
   "pygments_lexer": "ipython3",
   "version": "3.9.13"
  }
 },
 "nbformat": 4,
 "nbformat_minor": 5
}

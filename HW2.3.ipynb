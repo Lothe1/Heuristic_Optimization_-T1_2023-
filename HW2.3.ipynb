{
 "cells": [
  {
   "cell_type": "code",
   "execution_count": 2,
   "metadata": {},
   "outputs": [
    {
     "name": "stdout",
     "output_type": "stream",
     "text": [
      "[-1/3*e^(-2/T) - 1/3*e^(-3/T) + 1, 0, 1/3*e^(-2/T), 1/3*e^(-3/T), 0]\n",
      "[0, -1/4*e^(-1/T) - 1/4*e^(-2/T) - 1/4*e^(1/T) + 1, 1/4*e^(-1/T), 1/4*e^(-2/T), 1/4*e^(1/T)]\n",
      "[1/3*e^(2/T), 1/3*e^(1/T), -1/3*e^(2/T) - 1/3*e^(1/T) + 1, 0, 0]\n",
      "[1/4*e^(3/T), 1/4*e^(2/T), 0, -1/2*e^(3/T) - 1/4*e^(2/T) + 1, 1/4*e^(3/T)]\n",
      "[0, 1/3*e^(-1/T), 0, 1/3*e^(-3/T), -1/3*e^(-1/T) - 1/3*e^(-3/T) + 1]\n"
     ]
    }
   ],
   "source": [
    "Neighborsizelist = [3,4,3,4,3]\n",
    "Costlist = [1,2,3,4,1]\n",
    "Neighbors = [{0,2,3},{1, 2,3,4}, {2, 0, 1}, {3, 0, 1, 4}, {4, 3, 1}]\n",
    "\n",
    "\n",
    "def constructArr(size, Neighborsizelist, Costlist,T):\n",
    "    Retarr =[]\n",
    "    for currentNode in range(size):\n",
    "        Ret_Row =[]\n",
    "        for nextNode in range(size):\n",
    "            if(currentNode == nextNode):\n",
    "                Ret_Row.append(None)\n",
    "            else:\n",
    "                if(not nextNode in Neighbors[currentNode]):\n",
    "                    Ret_Row.append(0)\n",
    "                else:\n",
    "                    cost_diff = Costlist[currentNode] - Costlist[nextNode]\n",
    "                    Ret_Row.append(e**(cost_diff/T)/Neighborsizelist[currentNode])\n",
    "        Retarr.append(Ret_Row)\n",
    "    return Retarr\n",
    "\n",
    "def completeArr(ArrList):\n",
    "    for row in range(len(ArrList)):\n",
    "        sum_row = 0\n",
    "        for col in range(len(ArrList[row])):\n",
    "            if ArrList[row][col] == None:\n",
    "                continue\n",
    "            else:\n",
    "                sum_row += ArrList[row][col]       \n",
    "        \n",
    "        ArrList[row][row] = 1 - sum_row\n",
    "\n",
    "\n",
    "T = var(\"T\")\n",
    "Transitionmatrix = constructArr(5, Neighborsizelist, Costlist,T)\n",
    "\n",
    "completeArr(Transitionmatrix)\n",
    "\n",
    "p1,p2,p3,p4,p5  = var(\"p1 p2 p3 p4 p5\")\n",
    "\n",
    "Stationary_list = []\n",
    "\n",
    "for i in range(len(Transitionmatrix)):\n",
    "    Stationary_list.append(p1* Transitionmatrix[0][i]  +  p2*  Transitionmatrix[1][i]   + p3 *Transitionmatrix[2][i] + p4* Transitionmatrix[3][i] + p5* Transitionmatrix[4][i] )\n",
    "\n",
    "eq1 = p1 == Stationary_list[0]\n",
    "eq2 = p2 == Stationary_list[1]\n",
    "eq3 = p3 == Stationary_list[2]\n",
    "eq4 = p4 == Stationary_list[3]\n",
    "eq5 = p5 == Stationary_list[4]\n",
    "eq6 = p1+ p2 + p3 + p4 + p5 == 1\n",
    "sol  = solve([eq1,eq2,eq3,eq4,eq5,eq6], p1,p2,p3,p4,p5)\n",
    "\n",
    "\n",
    "for i in range(len(Transitionmatrix)):\n",
    "    print(Transitionmatrix[i])"
   ]
  },
  {
   "cell_type": "code",
   "execution_count": 9,
   "metadata": {},
   "outputs": [
    {
     "name": "stdout",
     "output_type": "stream",
     "text": [
      "[p1 == 3*e^(6/T)/(6*e^(6/T) + 4*e^(4/T) + 3*e^(2/T) + 4) p2 == 4*e^(4/T)/(6*e^(6/T) + 4*e^(4/T) + 3*e^(2/T) + 4) p3 == 3*e^(2/T)/(6*e^(6/T) + 4*e^(4/T) + 3*e^(2/T) + 4)         p4 == 4/(6*e^(6/T) + 4*e^(4/T) + 3*e^(2/T) + 4) p5 == 3*e^(6/T)/(6*e^(6/T) + 4*e^(4/T) + 3*e^(2/T) + 4)]\n"
     ]
    }
   ],
   "source": [
    "\n",
    "matrix = Matrix(sol )\n",
    "print(matrix)\n",
    "\n",
    "\n"
   ]
  },
  {
   "cell_type": "code",
   "execution_count": null,
   "metadata": {},
   "outputs": [],
   "source": []
  }
 ],
 "metadata": {
  "kernelspec": {
   "display_name": "SageMath 9.3",
   "language": "sage",
   "name": "sagemath"
  },
  "language_info": {
   "codemirror_mode": {
    "name": "ipython",
    "version": 3
   },
   "file_extension": ".py",
   "mimetype": "text/x-python",
   "name": "python",
   "nbconvert_exporter": "python",
   "pygments_lexer": "ipython3",
   "version": "3.7.10"
  }
 },
 "nbformat": 4,
 "nbformat_minor": 4
}
